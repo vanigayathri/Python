{
 "cells": [
  {
   "cell_type": "code",
   "execution_count": 1,
   "id": "2f166493",
   "metadata": {},
   "outputs": [
    {
     "name": "stdout",
     "output_type": "stream",
     "text": [
      "Collecting pywebio\n",
      "  Using cached pywebio-1.8.3.tar.gz (500 kB)\n",
      "  Preparing metadata (setup.py): started\n",
      "  Preparing metadata (setup.py): finished with status 'done'\n",
      "Requirement already satisfied: tornado>=5.0 in c:\\anaconda\\lib\\site-packages (from pywebio) (6.3.2)\n",
      "Collecting user-agents (from pywebio)\n",
      "  Using cached user_agents-2.2.0-py3-none-any.whl (9.6 kB)\n",
      "Collecting ua-parser>=0.10.0 (from user-agents->pywebio)\n",
      "  Obtaining dependency information for ua-parser>=0.10.0 from https://files.pythonhosted.org/packages/db/d5/3cf1bdc3401dda1c45894deac836aaab571c26858f83e1b6d6a7c249d444/ua_parser-0.18.0-py2.py3-none-any.whl.metadata\n",
      "  Using cached ua_parser-0.18.0-py2.py3-none-any.whl.metadata (1.4 kB)\n",
      "Using cached ua_parser-0.18.0-py2.py3-none-any.whl (38 kB)\n",
      "Building wheels for collected packages: pywebio\n",
      "  Building wheel for pywebio (setup.py): started\n",
      "  Building wheel for pywebio (setup.py): finished with status 'done'\n",
      "  Created wheel for pywebio: filename=pywebio-1.8.3-py3-none-any.whl size=509548 sha256=3fa18f4e92d666b219d942ad6cc157854002eee16bfb714f2d4e91fbf13c835a\n",
      "  Stored in directory: c:\\users\\lenovo\\appdata\\local\\pip\\cache\\wheels\\e8\\64\\73\\671f4a5f03b4cb77d9a5be4a0149e00ad51b45a7711fe4a137\n",
      "Successfully built pywebio\n",
      "Installing collected packages: ua-parser, user-agents, pywebio\n",
      "Successfully installed pywebio-1.8.3 ua-parser-0.18.0 user-agents-2.2.0\n",
      "Note: you may need to restart the kernel to use updated packages.\n"
     ]
    }
   ],
   "source": [
    "pip install pywebio"
   ]
  },
  {
   "cell_type": "code",
   "execution_count": 5,
   "id": "e8d87939",
   "metadata": {},
   "outputs": [],
   "source": [
    "# import the following modules\n",
    "import json\n",
    "import requests\n",
    "from pywebio.input import *\n",
    "from pywebio.output import *\n",
    "from pywebio.session import *\n",
    "\n",
    "def get_fun_fact(_):\n",
    "    # Clear the above screen\n",
    "    clear()\n",
    "\n",
    "    put_html(\"<p align='left'><h2><img src='https://media.geeksforgeeks.org/wp-content/uploads/20210720224119/MessagingHappyicon.png' width='7%'> Fun Fact Generator</h2></p>\")\n",
    "\n",
    "    # URL from where we will fetch the data\n",
    "    url = \"https://uselessfacts.jsph.pl/random.json?language=en\"\n",
    "\n",
    "    # Use GET request\n",
    "    response = requests.get(url)\n",
    "\n",
    "    # Load the request in json file\n",
    "    data = json.loads(response.text)\n",
    "\n",
    "    # we will need 'text' from the list, so\n",
    "    # pass 'text' in the list\n",
    "    useless_fact = data['text']\n",
    "\n",
    "    # Put the facts in the blue color\n",
    "    # Put the click me button\n",
    "    style(put_text(useless_fact), 'color:blue; font-size: 30px')\n",
    "    put_buttons(\n",
    "        [dict(label='Click me', value='outline-success',\n",
    "              color='outline-success')], onclick=get_fun_fact)\n",
    "\n",
    "# Driver Function\n",
    "if __name__ == '__main__':\n",
    "    # Put a heading \"Fun Fact Generator\"\n",
    "    put_html(\"<p align='left'><h2><img src='https://media.geeksforgeeks.org/wp-content/uploads/20210720224119/MessagingHappyicon.png' width='7%'> Fun Fact Generator</h2></p>\")\n",
    "\n",
    "    # hold the session for a long time\n",
    "    # Put a Click me button\n",
    "    put_buttons(\n",
    "        [dict(label='Click me', value='outline-success',\n",
    "              color='outline-success')], onclick=get_fun_fact)\n",
    "    hold()\n"
   ]
  }
 ],
 "metadata": {
  "kernelspec": {
   "display_name": "Python 3 (ipykernel)",
   "language": "python",
   "name": "python3"
  },
  "language_info": {
   "codemirror_mode": {
    "name": "ipython",
    "version": 3
   },
   "file_extension": ".py",
   "mimetype": "text/x-python",
   "name": "python",
   "nbconvert_exporter": "python",
   "pygments_lexer": "ipython3",
   "version": "3.11.5"
  }
 },
 "nbformat": 4,
 "nbformat_minor": 5
}
